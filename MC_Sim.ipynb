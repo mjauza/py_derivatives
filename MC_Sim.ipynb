{
 "cells": [
  {
   "cell_type": "code",
   "execution_count": 1,
   "metadata": {},
   "outputs": [],
   "source": [
    "%load_ext autoreload\n",
    "%autoreload 2"
   ]
  },
  {
   "cell_type": "code",
   "execution_count": 2,
   "metadata": {},
   "outputs": [],
   "source": [
    "import mc_simulation\n",
    "import torch"
   ]
  },
  {
   "cell_type": "code",
   "execution_count": 3,
   "metadata": {},
   "outputs": [
    {
     "data": {
      "text/plain": [
       "tensor([[0.6382, 0.7159, 0.1295, 0.2803, 0.2498, 2.0628, 0.9897, 0.0573, 1.5904,\n",
       "         0.0180],\n",
       "        [3.8985, 1.2307, 1.9557, 0.2565, 2.8409, 1.7374, 1.2664, 1.8316, 0.5204,\n",
       "         1.2449],\n",
       "        [1.0577, 0.2219, 0.5167, 0.8809, 0.8712, 0.1115, 0.4556, 0.3845, 0.2030,\n",
       "         0.7460],\n",
       "        [0.1240, 0.6124, 0.0802, 1.9228, 1.2159, 0.6911, 0.2005, 0.6227, 0.5439,\n",
       "         0.5565],\n",
       "        [0.4064, 0.1777, 1.5757, 0.2859, 0.4271, 1.1192, 0.7379, 0.2000, 0.3710,\n",
       "         0.9232]])"
      ]
     },
     "execution_count": 3,
     "metadata": {},
     "output_type": "execute_result"
    }
   ],
   "source": [
    "mc_simulation.gamma_sim(1,1,(5, 10))"
   ]
  },
  {
   "cell_type": "code",
   "execution_count": 9,
   "metadata": {},
   "outputs": [],
   "source": [
    "time_points_t = torch.tensor([[0.1, 1,2,3,4],[0.1, 1,2,3,4]], device=\"cuda\").transpose(0,1)"
   ]
  },
  {
   "cell_type": "code",
   "execution_count": 10,
   "metadata": {},
   "outputs": [
    {
     "data": {
      "text/plain": [
       "tensor([[3.0797e-03, 1.9021e+00],\n",
       "        [2.7743e-01, 4.0540e+00],\n",
       "        [3.2085e-01, 4.0853e+00],\n",
       "        [9.5113e-01, 5.8505e+00],\n",
       "        [1.0518e+00, 7.0342e+00]], device='cuda:0')"
      ]
     },
     "execution_count": 10,
     "metadata": {},
     "output_type": "execute_result"
    }
   ],
   "source": [
    "mc_simulation.gamma_process_sim(1,1, time_points_t, device=\"cuda\")"
   ]
  },
  {
   "cell_type": "code",
   "execution_count": 11,
   "metadata": {},
   "outputs": [
    {
     "data": {
      "text/plain": [
       "tensor([[-0.0467, -0.0332],\n",
       "        [-0.0303, -0.2485],\n",
       "        [-0.1547, -0.3061],\n",
       "        [-0.2319, -0.3611],\n",
       "        [-0.6576, -0.5881]], device='cuda:0')"
      ]
     },
     "execution_count": 11,
     "metadata": {},
     "output_type": "execute_result"
    }
   ],
   "source": [
    "mc_simulation.var_gamma_sim(20,40,50,time_points_t)"
   ]
  },
  {
   "cell_type": "code",
   "execution_count": null,
   "metadata": {},
   "outputs": [],
   "source": []
  }
 ],
 "metadata": {
  "kernelspec": {
   "display_name": "pytorch_1",
   "language": "python",
   "name": "python3"
  },
  "language_info": {
   "codemirror_mode": {
    "name": "ipython",
    "version": 3
   },
   "file_extension": ".py",
   "mimetype": "text/x-python",
   "name": "python",
   "nbconvert_exporter": "python",
   "pygments_lexer": "ipython3",
   "version": "3.12.8"
  }
 },
 "nbformat": 4,
 "nbformat_minor": 2
}
